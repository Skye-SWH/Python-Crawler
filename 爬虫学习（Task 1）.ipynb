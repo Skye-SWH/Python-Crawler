{
 "cells": [
  {
   "cell_type": "markdown",
   "metadata": {},
   "source": [
    "#### 【Task1 学习get与post请求】：\n",
    "1. 学习get与post请求，尝试使用requests或者是urllib用get方法向百度网页发出一个请求，并将其返回结果输出。 \n",
    "2. 如果是断开了网络，再发出申请，结果又是什么。了解申请返回的状态码。 \n",
    "3. 了解什么是请求头，如何添加请求头。"
   ]
  },
  {
   "cell_type": "code",
   "execution_count": 1,
   "metadata": {},
   "outputs": [],
   "source": [
    "import requests"
   ]
  },
  {
   "cell_type": "code",
   "execution_count": 3,
   "metadata": {},
   "outputs": [
    {
     "data": {
      "text/plain": [
       "'<!DOCTYPE html>\\r\\n<!--STATUS OK--><html> <head><meta http-equiv=content-type content=text/html;charset=utf-8><meta http-equiv=X-UA-Compatible content=IE=Edge><meta content=always name=referrer><link rel=stylesheet type=text/css href=https://ss1.bdstatic.com/5eN1bjq8AAUYm2zgoY3K/r/www/cache/bdorz/baidu.min.css><title>ç\\x99¾åº¦ä¸\\x80ä¸\\x8bï¼\\x8cä½\\xa0å°±ç\\x9f¥é\\x81\\x93</title></head> <body link=#0000cc> <div id=wrapper> <div id=head> <div class=head_wrapper> <div class=s_form> <div class=s_form_wrapper> <div id=lg> <img hidefocus=true src=//www.baidu.com/img/bd_logo1.png width=270 height=129> </div> <form id=form name=f action=//www.baidu.com/s class=fm> <input type=hidden name=bdorz_come value=1> <input type=hidden name=ie value=utf-8> <input type=hidden name=f value=8> <input type=hidden name=rsv_bp value=1> <input type=hidden name=rsv_idx value=1> <input type=hidden name=tn value=baidu><span class=\"bg s_ipt_wr\"><input id=kw name=wd class=s_ipt value maxlength=255 autocomplete=off autofocus=autofocus></span><span class=\"bg s_btn_wr\"><input type=submit id=su value=ç\\x99¾åº¦ä¸\\x80ä¸\\x8b class=\"bg s_btn\" autofocus></span> </form> </div> </div> <div id=u1> <a href=http://news.baidu.com name=tj_trnews class=mnav>æ\\x96°é\\x97»</a> <a href=https://www.hao123.com name=tj_trhao123 class=mnav>hao123</a> <a href=http://map.baidu.com name=tj_trmap class=mnav>å\\x9c°å\\x9b¾</a> <a href=http://v.baidu.com name=tj_trvideo class=mnav>è§\\x86é¢\\x91</a> <a href=http://tieba.baidu.com name=tj_trtieba class=mnav>è´´å\\x90§</a> <noscript> <a href=http://www.baidu.com/bdorz/login.gif?login&amp;tpl=mn&amp;u=http%3A%2F%2Fwww.baidu.com%2f%3fbdorz_come%3d1 name=tj_login class=lb>ç\\x99»å½\\x95</a> </noscript> <script>document.write(\\'<a href=\"http://www.baidu.com/bdorz/login.gif?login&tpl=mn&u=\\'+ encodeURIComponent(window.location.href+ (window.location.search === \"\" ? \"?\" : \"&\")+ \"bdorz_come=1\")+ \\'\" name=\"tj_login\" class=\"lb\">ç\\x99»å½\\x95</a>\\');\\r\\n                </script> <a href=//www.baidu.com/more/ name=tj_briicon class=bri style=\"display: block;\">æ\\x9b´å¤\\x9aäº§å\\x93\\x81</a> </div> </div> </div> <div id=ftCon> <div id=ftConw> <p id=lh> <a href=http://home.baidu.com>å\\x85³äº\\x8eç\\x99¾åº¦</a> <a href=http://ir.baidu.com>About Baidu</a> </p> <p id=cp>&copy;2017&nbsp;Baidu&nbsp;<a href=http://www.baidu.com/duty/>ä½¿ç\\x94¨ç\\x99¾åº¦å\\x89\\x8då¿\\x85è¯»</a>&nbsp; <a href=http://jianyi.baidu.com/ class=cp-feedback>æ\\x84\\x8fè§\\x81å\\x8f\\x8dé¦\\x88</a>&nbsp;äº¬ICPè¯\\x81030173å\\x8f·&nbsp; <img src=//www.baidu.com/img/gs.gif> </p> </div> </div> </div> </body> </html>\\r\\n'"
      ]
     },
     "execution_count": 3,
     "metadata": {},
     "output_type": "execute_result"
    }
   ],
   "source": [
    "re = requests.get('https://www.baidu.com')\n",
    "re.text"
   ]
  },
  {
   "cell_type": "code",
   "execution_count": 4,
   "metadata": {},
   "outputs": [
    {
     "data": {
      "text/plain": [
       "'<html>\\r\\n<head>\\r\\n<meta http-equiv=\"content-type\" content=\"text/html;charset=utf-8\">\\r\\n<style data-for=\"result\" id=\"css_result\">\\r\\nbody{color:#333;background:#fff;padding:6px 0 0;margin:0;position:relative;min-width:900px}body,th,td,.p1,.p2{font-family:arial}p,form,ol,ul,li,dl,dt,dd,h3{margin:0;padding:0;list-style:none}input{padding-top:0;padding-bottom:0;-moz-box-sizing:border-box;-webkit-box-sizing:border-box;box-sizing:border-box}table,img{border:0}td{font-size:9pt;line-height:18px}\\r\\n\\r\\n\\r\\n\\r\\n#foot{font-size:12px}.logo{width:117px;height:38px;cursor:pointer}\\r\\n\\r\\n#u,#head,#tool,#search,.p1{line-height:120%;margin-left:-12pt}.p2{width:100%;line-height:120%;margin-left:-12pt}#wrapper{_zoom:1}#container{word-break:break-all;word-wrap:break-word}.container_s{width:1002px}.container_l{width:1222px}#content_left{width:636px;float:left;padding-left:35px}#content_right{border-left:1px solid #e1e1e1;float:right}.container_s #content_right{width:271px}.container_l #content_right{width:434px}.content_none{padding-left:35px}#u{color:#999;white-space:nowrap;position:absolute;right:10px;top:4px;z-index:299}#u a{color:#00c;margin:0 5px}#u .reg{margin:0}#u .last{margin-right:0}#u .un{font-weight:bold;margin-right:5px}#u ul{width:100%;background:#fff;border:1px solid #9b9b9b}#u li{height:25px}#u li a{width:100%;height:25px;line-height:25px;display:block;text-align:left;text-decoration:none;text-indent:6px;margin:0;filter:none\\\\9}#u li a:hover{background:#ebebeb}#u li.nl{border-top:1px solid #ebebeb}#user{position:relative;display:inline-block}#user_center{position:relative;display:inline-block}#user_center .user_center_btn{margin-right:5px}.userMenu{width:64px;position:absolute;right:7px;_right:2px;top:15px;top:14px\\\\9;*top:15px;padding-top:4px;display:none;*background:#fff}#head{padding-left:35px;margin-bottom:20px;width:900px}\\r\\n\\r\\n.fm{clear:both;position:relative;z-index:297}.nv a,.nv b,.btn,#page,#more{font-size:14px}\\r\\n\\r\\n.s_nav{height:45px}.s_nav .s_logo{margin-right:20px;float:left}.s_nav .s_logo img{border:0;display:block}.s_tab{line-height:18px;padding:20px 0 0;float:left}.s_nav a{color:#00c;font-size:14px}.s_nav b{font-size:14px}.s_ipt_wr{width:536px;height:30px;display:inline-block;margin-right:5px;background-position:0 -96px;border:1px solid #b6b6b6;border-color:#7b7b7b #b6b6b6 #b6b6b6 #7b7b7b;vertical-align:top}.s_ipt{width:523px;height:22px;font:16px/22px arial;margin:5px 0 0 7px;padding:0;background:#fff;border:0;outline:0;-webkit-appearance:none}.s_btn{width:95px;height:32px;padding-top:2px\\\\9;font-size:14px;padding:0;background-color:#ddd;background-position:0 -48px;border:0;cursor:pointer}.s_btn_h{background-position:-240px -48px}.s_btn_wr{width:97px;height:34px;display:inline-block;background-position:-120px -48px;*position:relative;z-index:0;vertical-align:top}.sethf{padding:0;margin:0;font-size:14px}.set_h{display:none;behavior:url(#default#homepage)}.set_f{display:none}.shouji{margin-left:19px}.shouji a{text-decoration:none}.bdsug{position:absolute;width:536px;background:#fff;display:none;border:1px solid #817f82}\\r\\n\\r\\n\\r\\n#page{font:14px arial;white-space:nowrap;padding-left:35px}#page a,#page strong{display:inline-block;vertical-align:text-bottom;height:66px;text-align:center;line-height:34px;text-decoration:none;overflow:hidden;margin-right:9px;background:white}#page a{cursor:pointer}#page a:hover{background:0}#page .n:hover,#page a:hover .pc{background:#f2f8ff;border:1px solid #38f}#page .n{height:34px;padding:0 18px;border:1px solid #e1e2e3}#page span{display:block}#page .pc{width:34px;height:34px;border:1px solid #e1e2e3;cursor:pointer}#page .fk{width:24px;height:24px;margin-bottom:6px;margin-left:6px;cursor:pointer}#page strong .fk,#page strong .pc{cursor:auto}#page .fk .c-icon-bear-pn{top:-3px;position:relative}#page .fkd .c-icon-bear-pn{top:3px;position:relative}#page .fk_cur .c-icon-bear-p{top:-2px;position:relative}#page strong .pc{border:0;width:36px;height:36px;line-height:36px}#page .nums{display:inline-block;vertical-align:text-bottom;height:36px;line-height:36px;margin-left:10px}#rs{width:900px;background:#fff;padding:8px 0;margin:20px 0 0 15px}#rs td{width:5%}#rs th{font-size:14px;font-weight:normal;line-height:19px;white-space:nowrap;text-align:left;vertical-align:top}#rs .tt{font-weight:bold;padding:0 10px 0 20px}#rs_top{font-size:14px;margin-bottom:22px}#rs_top a{margin-right:18px}#search{width:900px;padding:35px 0 16px 35px}#search .s_help{position:relative;top:10px}\\r\\n\\r\\n#foot{height:20px;line-height:20px;color:#77c;background:#e6e6e6;text-align:center}#foot span{color:#666}\\r\\n\\r\\n.to_zhidao,.to_tieba,.to_zhidao_bottom{font-size:16px;line-height:24px;margin:20px 0 0 35px}.to_tieba .c-icon-tieba{float:left}.f{line-height:115%;*line-height:120%;font-size:100%;width:33.7em;word-break:break-all;word-wrap:break-word}.h{margin-left:8px;width:100%}.r{word-break:break-all;cursor:hand;width:238px}.t{font-weight:normal;font-size:medium;margin-bottom:1px}.pl{padding-left:3px;height:8px;padding-right:2px;font-size:14px}.mo,a.mo:link,a.mo:visited{color:#666;font-size:100%;line-height:10px}.htb{margin-bottom:5px}.jc a{color:#c00}a font[size=\"3\"] font,font[size=\"3\"] a font{text-decoration:underline}div.blog,div.bbs{color:#707070;padding-top:2px;font-size:13px}.result{width:33.7em;table-layout:fixed}.result-op .f{word-wrap:normal}.nums{font-size:12px;color:#999}.tools{position:absolute;top:10px;white-space:nowrap}\\r\\n\\r\\n#mHolder{width:62px;position:relative;z-index:296;top:-18px;margin-left:9px;margin-right:-12px;display:none}#mCon{height:18px;position:absolute;top:3px;top:6px\\\\9;cursor:pointer;line-height:18px}.wrapper_l #mCon{right:7px}#mCon span{color:#00c;cursor:default;display:block}#mCon .hw{text-decoration:underline;cursor:pointer;display:inline-block}#mCon .pinyin{display:inline-block}#mCon .c-icon-chevron-unfold2{margin-left:5px}#mMenu{width:56px;border:1px solid #9b9b9b;position:absolute;right:7px;top:23px;display:none;background:#fff}#mMenu a{width:100%;height:100%;color:#00c;display:block;line-height:22px;text-indent:6px;text-decoration:none;filter:none\\\\9}#mMenu a:hover{background:#ebebeb}#mMenu .ln{height:1px;background:#ebebeb;overflow:hidden;font-size:1px;line-height:1px;margin-top:-1px}\\r\\n\\r\\n\\r\\n#index_guide{display:none}#index_logo{display:none}#u1{display:none}.s_ipt_wr{height:32px}body{padding:0}.s_form:after,.s_tab:after{content:\".\";display:block;height:0;clear:both;visibility:hidden}.s_form{zoom:1;height:63px;padding:0 0 0 10px}\\r\\n\\r\\n#result_logo{float:left;margin:11px 6px 0 6px}#result_logo img{width:104px}\\r\\n\\r\\n#head{padding:0;margin:0;width:100%;position:absolute;z-index:301;min-width:1000px;background:#fff;border-bottom:1px solid #ebebeb;position:fixed;_position:absolute}#head .head_wrapper{_width:1000px}#head.s_down{box-shadow:0 0 5px #888}.fm{clear:none;float:left;margin:15px 0 0 12px}#s_tab{background:#f8f8f8;line-height:36px;height:38px;padding:63px 0 0 138px;float:none;zoom:1}#s_tab a,#s_tab b{width:54px;display:inline-block;text-decoration:none;text-align:center;color:#666;font-size:14px}#s_tab b{border-bottom:2px solid #38f;font-weight:bold;color:#323232}#s_tab a:hover{color:#323232}#content_left{width:540px;padding-left:138px;padding-top:5px}#content_right{margin-top:45px}\\r\\n#page{padding:0 0 0 138px;margin:30px 0 40px 0}\\r\\n\\r\\n\\r\\n#help{background:#f5f6f5;zoom:1;padding:0 0 0 50px;float:right}#help a{color:#777;padding:0 15px;text-decoration:none}#help a:hover{color:#333}\\r\\n\\r\\n#foot{background:#f5f6f5;border-top:1px solid #ebebeb;text-align:left;height:42px;line-height:42px}#foot .foot_c{float:left;padding:0 0 0 138px}.content_none{padding:30px 0 0 138px}\\r\\n\\r\\n#mCon{top:5px}\\r\\n\\r\\n.s_ipt_wr.bg,.s_btn_wr.bg,#su.bg{background-image:none}.s_btn_wr{width:auto;height:auto;border-bottom:1px solid transparent;*border-bottom:0}.s_btn{width:100px;height:34px;color:white;letter-spacing:1px;background:#3385ff;border-bottom:1px solid #2d78f4;outline:medium;*border-bottom:0;-webkit-appearance:none;-webkit-border-radius:0}.s_btn.btnhover{background:#317ef3;border-bottom:1px solid #2868c8;*border-bottom:0;box-shadow:1px 1px 1px #ccc}\\r\\n\\r\\n.s_btn_h{background:#3075dc;box-shadow:inset 1px 1px 3px #2964bb;-webkit-box-shadow:inset 1px 1px 3px #2964bb;-moz-box-shadow:inset 1px 1px 3px #2964bb;-o-box-shadow:inset 1px 1px 3px #2964bb}#head .bdsug{top:33px}.bdsug{width:538px;border-color:#ccc;box-shadow:1px 1px 3px #ededed;-webkit-box-shadow:1px 1px 3px #ededed;-moz-box-shadow:1px 1px 3px #ededed;-o-box-shadow:1px 1px 3px #ededed}\\r\\n\\r\\n.bdsug.bdsugbg{background-repeat:no-repeat;background-position:100% 100%;background-size:100px 110px;background-image:url(http://s1.bdstatic.com/r/www/cache/static/home/img/sugbg_6a9201c2.png);background-image:url(http://s1.bdstatic.com/r/www/cache/static/home/img/sugbg_d24a0811.gif)\\\\9}.bdsug li{width:522px;line-height:22px}.bdsug li.bdsug-s{background:#f0f0f0}.bdsug-ala h3{margin:8px 0 5px 0}#wrapper_wrapper .container_l .EC_ppim_top,#wrapper_wrapper .container_xl .EC_ppim_top{width:640px}#wrapper_wrapper .container_s .EC_ppim_top{width:570px}#head .c-icon-bear-round{display:none}.container_l #content_right{width:384px}.container_l{width:1212px}.container_xl #content_right{width:384px}.container_xl{width:1257px}.index_tab_top{display:none}.index_tab_bottom{display:none}#lg{display:none}#m{display:none}#ftCon{display:none}#ent_sug{margin:40px 0 0 145px;font-size:13px;color:#666}.c-icon{background:url(http://s1.bdstatic.com/r/www/cache/static/global/img/icons_3bfb8e45.png) no-repeat 0 0;_background-image:url(\"http://s1.bdstatic.com/r/www/cache/static/global/img/icons_f72fb1cc.gif\")}\\r\\n\\r\\n\\r\\n\\r\\n</style>\\r\\n<meta http-equiv=\"X-UA-Compatible\" content=\"IE=Edge\">\\r\\n<title>é¡µé\\x9d¢ä¸\\x8då\\xad\\x98å\\x9c¨_ç\\x99¾åº¦æ\\x90\\x9cç´¢</title>\\r\\n\\r\\n<style data-for=\"debug\">\\r\\n\\t#debug{display:none!important}\\r\\n</style>\\r\\n\\r\\n<style data-for=\"result\" id=\"css_index_result\">\\r\\n#seth{display:none;behavior:url(#default#homepage)}#setf{display:none}#sekj{margin-left:14px}#st,#sekj{display:none}.s_ipt_wr{border:1px solid #b6b6b6;border-color:#7b7b7b #b6b6b6 #b6b6b6 #7b7b7b;background:#fff;display:inline-block;vertical-align:top;width:539px;margin-right:0;border-right-width:0;border-color:#b8b8b8 transparent #ccc #b8b8b8}/*.wrapper_s .s_ipt_wr{width:439px}*//*.wrapper_s .s_ipt{width:434px}*/.s_ipt_wr:hover,.s_ipt_wr.ipthover{border-color:#999 transparent #b3b3b3 #999}.s_ipt_wr.iptfocus{border-color:#4791ff transparent #4791ff #4791ff}.s_ipt_tip{color:#aaa;position:absolute}.s_ipt{width:526px;height:22px;font:16px/22px arial;margin:6px 0 0 7px;padding:0;background:transparent;border:0;outline:0;-webkit-appearance:none}#kw{position:relative}.bdpfmenu,.usermenu{border:1px solid #d1d1d1;position:absolute;width:105px;top:36px;padding:1px 0;z-index:302;overflow:hidden;box-shadow:1px 1px 5px #d1d1d1;-webkit-box-shadow:1px 1px 5px #d1d1d1;-moz-box-shadow:1px 1px 5px #d1d1d1;-o-box-shadow:1px 1px 5px #d1d1d1}\\r\\n.bdpfmenu{font-size:12px}.bdpfmenu a,.usermenu a{display:block;text-align:left;margin:0!important;padding:0 9px;line-height:26px;text-decoration:none}\\r\\n\\r\\n#u .bri:hover,#u .bri.brihover{background-position:-18px 3px}#mCon #imeSIcon{background-position:-408px -144px;margin-left:0}#mCon span{color:#333}.bdpfmenu a:link,.bdpfmenu a:visited,#u .usermenu a:link,#u .usermenu a:visited{background:white;color:#333}.bdpfmenu a:hover,.bdpfmenu a:active,#u .usermenu a:hover,#u .usermenu a:active{background:#38f;text-decoration:none;color:white}.bdpfmenu{width:70px}.usermenu{width:68px;right:8px}#wrapper .bdnuarrow{width:24px;height:13px;position:absolute;z-index:303;top:24px;background:url(http://s1.bdstatic.com/r/www/cache/static/home/img/sugbg_6a9201c2.png) no-repeat -90px -1px;background-size:300px 21px;background-image:url(http://s1.bdstatic.com/r/www/cache/static/home/img/icons_0a1fc6ac.gif)\\\\9}#prefpanel{background:#fafafa;display:none;opacity:0;position:fixed;_position:absolute;top:-359px;z-index:500;width:100%;min-width:960px;height:359px;border-bottom:1px solid #ebebeb}#prefpanel form{_width:850px}#kw_tip{cursor:default;display:none}#bds-message-wrapper{top:43px}\\r\\n\\r\\ninput::-ms-clear{display:none}\\r\\n</style>\\r\\n\\r\\n</head>\\r\\n\\r\\n<body link=\"#0000cc\">\\r\\n<div id=\"wrapper\" style=\"\" class=\"wrapper_s\">\\r\\n\\r\\n <div id=\"head\"> <div class=\"head_wrapper\"> <div class=\"s_form\"> <div class=\"s_form_wrapper\"> <div id=\"lg\"> <img hidefocus=\"true\" src=\"//www.baidu.com/img/bd_logo1.png\" width=\"270\" height=\"129\"> </div> <a href=\"/\" id=\"result_logo\" onmousedown=\"return c({\\'fm\\':\\'tab\\',\\'tab\\':\\'logo\\'})\"> <img src=\"//www.baidu.com/img/baidu_jgylogo3.gif\" alt=\"å\\x88°ç\\x99¾åº¦é¦\\x96é¡µ\" title=\"å\\x88°ç\\x99¾åº¦é¦\\x96é¡µ\"> </a> <form id=\"form\" name=\"f\" action=\"/s\" class=\"fm\"> <input type=\"hidden\" name=\"ie\" value=\"utf-8\"> <input type=\"hidden\" name=\"f\" value=\"8\"> <input type=\"hidden\" name=\"rsv_bp\" value=\"1\"> <input type=\"hidden\" name=\"rsv_idx\" value=\"1\"> <input type=\"hidden\" name=\"ch\" value=\"\"> <input type=\"hidden\" name=\"tn\" value=\"baiduerr\"> <input type=\"hidden\" name=\"bar\" value=\"\"> <span class=\"bg s_ipt_wr\"> <input id=\"kw_tip\" unselectable=\"on\" onselectstart=\"return false;\" class=\"s_ipt s_ipt_tip\" disabled=\"\" autocomplete=\"off\" value=\"\" maxlength=\"100\" style=\"display: none;\"> <input id=\"kw\" name=\"wd\" class=\"s_ipt\" value=\"\" maxlength=\"100\" autocomplete=\"off\"> </span><span class=\"bg s_btn_wr\"> <input type=\"submit\" id=\"su\" value=\"ç\\x99¾åº¦ä¸\\x80ä¸\\x8b\" class=\"bg s_btn\"> </span><span class=\"tools\"> <span id=\"mHolder\"> <div id=\"mCon\"> <span>è¾\\x93å\\x85¥æ³\\x95</span> </div> <ul id=\"mMenu\"> <li><a href=\"javascript:;\" name=\"ime_hw\">æ\\x89\\x8bå\\x86\\x99</a> </li> <li><a href=\"javascript:;\" name=\"ime_py\">æ\\x8b¼é\\x9f³</a> </li> <li class=\"ln\"></li> <li><a href=\"javascript:;\" name=\"ime_cl\">å\\x85³é\\x97\\xad</a> </li> </ul> </span> <span class=\"shouji\" style=\"display: none;\"><a href=\"http://w.x.baidu.com/go/mini/8/10000020\" onmousedown=\"return ns_c({\\'fm\\':\\'behs\\',\\'tab\\':\\'bdbrowser\\'})\">ç\\x99¾åº¦æµ\\x8fè§\\x88å\\x99¨ï¼\\x8cæ\\x89\\x93å¼\\x80ç½\\x91é¡µå¿«2ç§\\x92ï¼\\x81</a> </span> </span> <input type=\"hidden\" name=\"rn\" value=\"\"> <input type=\"hidden\" name=\"rsv_enter\" value=\"1\"> </form> <div id=\"m\"></div> </div></div> </div></div> <div class=\"s_tab\" id=\"s_tab\"> <b>ç½\\x91é¡µ</b> <a href=\"http://news.baidu.com/ns?cl=2&amp;rn=20&amp;tn=news&amp;word=\" wdfield=\"word\" onmousedown=\"return c({\\'fm\\':\\'tab\\',\\'tab\\':\\'news\\'})\">æ\\x96°é\\x97»</a><a href=\"http://tieba.baidu.com/f?kw=&amp;fr=wwwt\" wdfield=\"kw\" onmousedown=\"return c({\\'fm\\':\\'tab\\',\\'tab\\':\\'tieba\\'})\">è´´å\\x90§</a><a href=\"http://zhidao.baidu.com/q?ct=17&amp;pn=0&amp;tn=ikaslist&amp;rn=10&amp;word=&amp;fr=wwwt\" wdfield=\"word\" onmousedown=\"return c({\\'fm\\':\\'tab\\',\\'tab\\':\\'zhidao\\'})\">ç\\x9f¥é\\x81\\x93</a><a href=\"http://music.baidu.com/search?fr=ps&amp;key=\" wdfield=\"key\" onmousedown=\"return c({\\'fm\\':\\'tab\\',\\'tab\\':\\'music\\'})\">é\\x9f³ä¹\\x90</a><a href=\"http://image.baidu.com/i?tn=baiduimage&amp;ps=1&amp;ct=201326592&amp;lm=-1&amp;cl=2&amp;nc=1&amp;word=\" wdfield=\"word\" onmousedown=\"return c({\\'fm\\':\\'tab\\',\\'tab\\':\\'pic\\'})\">å\\x9b¾ç\\x89\\x87</a><a href=\"http://v.baidu.com/v?ct=301989888&amp;rn=20&amp;pn=0&amp;db=0&amp;s=25&amp;word=\" wdfield=\"word\" onmousedown=\"return c({\\'fm\\':\\'tab\\',\\'tab\\':\\'video\\'})\">è§\\x86é¢\\x91</a><a href=\"http://map.baidu.com/m?word=&amp;fr=ps01000\" wdfield=\"word\" onmousedown=\"return c({\\'fm\\':\\'tab\\',\\'tab\\':\\'map\\'})\">å\\x9c°å\\x9b¾</a><a href=\"http://wenku.baidu.com/search?word=&amp;lm=0&amp;od=0\" wdfield=\"word\" onmousedown=\"return c({\\'fm\\':\\'tab\\',\\'tab\\':\\'wenku\\'})\">æ\\x96\\x87åº\\x93</a><a href=\"//www.baidu.com/more/\" onmousedown=\"return c({\\'fm\\':\\'tab\\',\\'tab\\':\\'more\\'})\">æ\\x9b´å¤\\x9aÂ»</a> </div>\\r\\n<div id=\"ftCon\"><div id=\"ftConw\"><p id=\"lh\"> <a id=\"seth\" onclick=\"h(this)\" href=\"/\" onmousedown=\"return ns_c({\\'fm\\':\\'behs\\',\\'tab\\':\\'homepage\\',\\'pos\\':0})\">æ\\x8a\\x8aç\\x99¾åº¦è®¾ä¸ºä¸»é¡µ</a><a id=\"setf\" href=\"http://www.baidu.com/cache/sethelp/index.html\" onmousedown=\"return ns_c({\\'fm\\':\\'behs\\',\\'tab\\':\\'favorites\\',\\'pos\\':0})\" target=\"_blank\" style=\"display: inline;\">æ\\x8a\\x8aç\\x99¾åº¦è®¾ä¸ºä¸»é¡µ</a><a onmousedown=\"return ns_c({\\'fm\\':\\'behs\\',\\'tab\\':\\'tj_about\\'})\" href=\"http://home.baidu.com\">å\\x85³äº\\x8eç\\x99¾åº¦</a><a onmousedown=\"return ns_c({\\'fm\\':\\'behs\\',\\'tab\\':\\'tj_about_en\\'})\" href=\"http://ir.baidu.com\">About Baidu</a> </p> <p id=\"cp\">Â©2014&nbsp;Baidu&nbsp;<a href=\"/duty/\" name=\"tj_duty\">ä½¿ç\\x94¨ç\\x99¾åº¦å\\x89\\x8då¿\\x85è¯»</a>&nbsp;äº¬ICPè¯\\x81030173å\\x8f·&nbsp;<i class=\"c-icon-icrlogo\"></i> </p> </div> </div>\\r\\n<div id=\"wrapper_wrapper\" style=\"display: block;\">\\r\\n\\t<style>\\r\\n\\t\\t\\t.nors{\\r\\n\\t\\t\\t\\tposition: relative;\\r\\n\\t\\t\\t}\\r\\n\\t\\t\\t.norsTitle{\\r\\n\\t\\t\\t\\tfont-size: 22px;\\r\\n\\t\\t\\t\\tfont-family: Microsoft Yahei;\\r\\n\\t\\t\\t\\tfont-weight: normal;\\r\\n\\t\\t\\t\\tcolor: #333;\\r\\n\\t\\t\\t\\tmargin: 35px 0 25px 0;\\r\\n\\t\\t\\t}\\r\\n\\t\\t\\t.norsSuggest {\\r\\n\\t\\t\\t\\tdisplay: inline-block;\\r\\n\\t\\t\\t\\tcolor:#333;\\r\\n\\t\\t\\t\\tfont-family:arial;\\r\\n\\t\\t\\t\\tfont-size: 13px;\\r\\n\\t\\t\\t\\tposition: relative;\\r\\n\\t\\t\\t}\\r\\n\\r\\n\\t\\t\\t.norsSuggest li{\\r\\n\\t\\t\\t\\tlist-style: decimal;\\r\\n\\t\\t\\t}\\r\\n\\t\\t\\t.norsTitle2 {\\r\\n\\t\\t\\t\\tfont-family: arial;\\r\\n\\t\\t\\t\\tfont-size: 13px;\\r\\n\\t\\t\\t\\tcolor: #666;\\t\\r\\n\\t\\t\\t}\\r\\n\\t\\t\\t.norsSuggest li{\\r\\n\\t\\t\\t\\tmargin: 13px 0;\\r\\n\\t\\t\\t}\\r\\n\\t\\t\\t.norsSuggest ol{\\r\\n\\t\\t\\t\\tmargin-left: 47px;\\r\\n\\t\\t\\t}\\r\\n\\t\\t\\t#foot{\\r\\n\\t\\t\\t\\tposition: fixed;\\r\\n\\t\\t\\t\\t_position: absolute;\\r\\n\\t\\t\\t\\tbottom: 0;\\r\\n\\t\\t\\t\\twidth: 100%;\\r\\n\\t\\t\\t\\tclear: both;\\r\\n\\t\\t\\t}\\r\\n\\t</style>\\r\\n\\t<div id=\"content_left\">\\r\\n\\t\\t<div class=\"nors\">\\r\\n\\t\\t\\t<div class=\"norsSuggest\">\\r\\n\\t\\t\\t\\t<h3 class=\"norsTitle\">å¾\\x88æ\\x8a±æ\\xad\\x89ï¼\\x8cæ\\x82¨è¦\\x81è®¿é\\x97®ç\\x9a\\x84é¡µé\\x9d¢ä¸\\x8då\\xad\\x98å\\x9c¨ï¼\\x81</h3>\\r\\n\\t\\t\\t\\t<p class=\"norsTitle2\">æ¸©é¦¨æ\\x8f\\x90ç¤ºï¼\\x9a</p>\\r\\n\\t\\t\\t\\t<ol>\\r\\n\\t\\t\\t\\t\\t<li>è¯·æ£\\x80æ\\x9f¥æ\\x82¨è®¿é\\x97®ç\\x9a\\x84ç½\\x91å\\x9d\\x80æ\\x98¯å\\x90¦æ\\xad£ç¡®</li> \\r\\n\\t\\t\\t\\t\\t<li>å¦\\x82æ\\x9e\\x9cæ\\x82¨ä¸\\x8dè\\x83½ç¡®è®¤è®¿é\\x97®ç\\x9a\\x84ç½\\x91å\\x9d\\x80ï¼\\x8cè¯·æµ\\x8fè§\\x88<a href=\"http://www.baidu.com/more/index.html\">ç\\x99¾åº¦æ\\x9b´å¤\\x9a</a>é¡µé\\x9d¢æ\\x9f¥ç\\x9c\\x8bæ\\x9b´å¤\\x9aç½\\x91å\\x9d\\x80ã\\x80\\x82</li>\\r\\n\\t\\t\\t\\t\\t<li>å\\x9b\\x9eå\\x88°é¡¶é\\x83¨é\\x87\\x8dæ\\x96°å\\x8f\\x91èµ·æ\\x90\\x9cç´¢</li>\\r\\n\\t\\t\\t\\t\\t<li>å¦\\x82æ\\x9c\\x89ä»»ä½\\x95æ\\x84\\x8fè§\\x81æ\\x88\\x96å»ºè®®ï¼\\x8cè¯·å\\x8f\\x8aæ\\x97¶<a href=\"http://qingting.baidu.com/index\">å\\x8f\\x8dé¦\\x88ç»\\x99æ\\x88\\x91ä»¬</a>ã\\x80\\x82</li>\\r\\n\\t\\t\\t\\t\\t\\r\\n\\r\\n\\t\\t\\t\\t</ol>\\r\\n\\t\\t\\t</div>\\r\\n\\t\\t</div>\\r\\n\\t</div>\\r\\n\\r\\n<div id=\"foot\"><span class=\"foot_c\">Â©2015&nbsp;Baidu&nbsp;<span>æ\\xad¤å\\x86\\x85å®¹ç³»ç\\x99¾åº¦æ\\xa0¹æ\\x8d®æ\\x82¨ç\\x9a\\x84æ\\x8c\\x87ä»¤è\\x87ªå\\x8a¨æ\\x90\\x9cç´¢ç\\x9a\\x84ç»\\x93æ\\x9e\\x9cï¼\\x8cä¸\\x8dä»£è¡¨ç\\x99¾åº¦èµ\\x9eæ\\x88\\x90è¢«æ\\x90\\x9cç´¢ç½\\x91ç«\\x99ç\\x9a\\x84å\\x86\\x85å®¹æ\\x88\\x96ç«\\x8bå\\x9cº</span></span>\\r\\n<span id=\"help\"><a href=\"http://www.baidu.com/search/jubao.html\" target=\"_blank\">ä¸¾æ\\x8a¥</a></span></div>\\r\\n\\r\\n<div class=\"c-tips-container\" id=\"c-tips-container\"></div></div></div><div class=\"c-tips-container\" id=\"c-tips-container\"></div>\\r\\n\\r\\n</body></html>'"
      ]
     },
     "execution_count": 4,
     "metadata": {},
     "output_type": "execute_result"
    }
   ],
   "source": [
    "re = requests.post('https://www.baidu.com')\n",
    "re.text"
   ]
  },
  {
   "cell_type": "markdown",
   "metadata": {},
   "source": [
    "##### 断开网络后发出请求\n",
    "- URLError: <urlopen error [Errno 11001] getaddrinfo failed>\n",
    "- 意思是：找不到主机，此错误表明网关找不到您尝试访问的网站的 IP 地址。"
   ]
  },
  {
   "cell_type": "markdown",
   "metadata": {},
   "source": [
    "##### 请求头\n",
    "###### http请求头，HTTP客户程序（例如浏览器），向服务器发送请求的时候必须指明请求类型（一般是GET或者POST）。如有必要，客户程序还可以选择发送其他的请求头。\n",
    "###### 类型：\n",
    "- Accept：客户机通过这个头，告诉服务器，它支持哪些数据类型\n",
    "- Accept-Charset：：客户机通过这个头，告诉服务器，它支持的编码\n",
    "- Accept-Encoding: 客户机通过这个头，告诉服务器，支持哪种数据压缩格式\n",
    "- Accept-Language: 客户机采用的是哪个语言\n",
    "- Host：客户机通过这个头，告诉服务器，想访问服务器哪台主机\n",
    "- If-Modified-Since：客户机通过这个头，告诉服务器，数据缓存的时间\n",
    "- Referer：客户机通过这个头，告诉服务器，客户机是从哪个页面来的（防盗链）\n",
    "- User-Agent: 说明客户机操作系统信息，以及浏览器信息\n",
    "- Cookie：客户机通过这个头，可以带点数据给服务器\n",
    "- Connection：表示是否需要 持久连接。"
   ]
  },
  {
   "cell_type": "code",
   "execution_count": 5,
   "metadata": {
    "scrolled": true
   },
   "outputs": [
    {
     "name": "stdout",
     "output_type": "stream",
     "text": [
      "200\n",
      "{'Cache-Control': 'private, no-cache, no-store, proxy-revalidate, no-transform', 'Connection': 'Keep-Alive', 'Content-Encoding': 'gzip', 'Content-Type': 'text/html', 'Date': 'Fri, 01 Mar 2019 13:08:58 GMT', 'Last-Modified': 'Mon, 23 Jan 2017 13:27:36 GMT', 'Pragma': 'no-cache', 'Server': 'bfe/1.0.8.18', 'Set-Cookie': 'BDORZ=27315; max-age=86400; domain=.baidu.com; path=/', 'Transfer-Encoding': 'chunked'}\n"
     ]
    }
   ],
   "source": [
    "import requests\n",
    "r = requests.get(\"http://www.baidu.com\")\n",
    "print(r.status_code)\n",
    "print(r.headers)"
   ]
  }
 ],
 "metadata": {
  "kernelspec": {
   "display_name": "Python 3",
   "language": "python",
   "name": "python3"
  },
  "language_info": {
   "codemirror_mode": {
    "name": "ipython",
    "version": 3
   },
   "file_extension": ".py",
   "mimetype": "text/x-python",
   "name": "python",
   "nbconvert_exporter": "python",
   "pygments_lexer": "ipython3",
   "version": "3.7.0"
  }
 },
 "nbformat": 4,
 "nbformat_minor": 2
}
