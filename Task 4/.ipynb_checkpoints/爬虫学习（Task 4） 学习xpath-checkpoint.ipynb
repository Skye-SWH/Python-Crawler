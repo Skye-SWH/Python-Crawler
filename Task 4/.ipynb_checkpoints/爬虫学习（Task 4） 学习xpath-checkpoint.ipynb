{
 "cells": [
  {
   "cell_type": "code",
   "execution_count": 1,
   "metadata": {},
   "outputs": [],
   "source": [
    "# 一个cell做多个输出\n",
    "from IPython.core.interactiveshell import InteractiveShell\n",
    "InteractiveShell.ast_node_interactivity = 'all'"
   ]
  },
  {
   "cell_type": "markdown",
   "metadata": {},
   "source": [
    "#### 学习笔记"
   ]
  },
  {
   "cell_type": "code",
   "execution_count": 5,
   "metadata": {
    "scrolled": false
   },
   "outputs": [
    {
     "data": {
      "text/plain": [
       "<Element html at 0x2be26a23a08>"
      ]
     },
     "execution_count": 5,
     "metadata": {},
     "output_type": "execute_result"
    },
    {
     "data": {
      "text/plain": [
       "b'<html><body><div>\\n    <ul>\\n         <li class=\"item-0\"><a href=\"link1.html\">first item</a></li>\\n         <li class=\"item-1\"><a href=\"link2.html\">second item</a></li>\\n         <li class=\"item-inactive\"><a href=\"link3.html\">third item</a></li>\\n         <li class=\"item-1\"><a href=\"link4.html\">fourth item</a></li>\\n         <li class=\"item-0\"><a href=\"link5.html\">fifth item</a>\\n     </li></ul>\\n </div>\\n</body></html>'"
      ]
     },
     "execution_count": 5,
     "metadata": {},
     "output_type": "execute_result"
    },
    {
     "data": {
      "text/plain": [
       "bytes"
      ]
     },
     "execution_count": 5,
     "metadata": {},
     "output_type": "execute_result"
    },
    {
     "name": "stdout",
     "output_type": "stream",
     "text": [
      "<html><body><div>\n",
      "    <ul>\n",
      "         <li class=\"item-0\"><a href=\"link1.html\">first item</a></li>\n",
      "         <li class=\"item-1\"><a href=\"link2.html\">second item</a></li>\n",
      "         <li class=\"item-inactive\"><a href=\"link3.html\">third item</a></li>\n",
      "         <li class=\"item-1\"><a href=\"link4.html\">fourth item</a></li>\n",
      "         <li class=\"item-0\"><a href=\"link5.html\">fifth item</a>\n",
      "     </li></ul>\n",
      " </div>\n",
      "</body></html>\n"
     ]
    }
   ],
   "source": [
    "from lxml import etree\n",
    "\n",
    "text = '''\n",
    "<div>\n",
    "    <ul>\n",
    "         <li class=\"item-0\"><a href=\"link1.html\">first item</a></li>\n",
    "         <li class=\"item-1\"><a href=\"link2.html\">second item</a></li>\n",
    "         <li class=\"item-inactive\"><a href=\"link3.html\">third item</a></li>\n",
    "         <li class=\"item-1\"><a href=\"link4.html\">fourth item</a></li>\n",
    "         <li class=\"item-0\"><a href=\"link5.html\">fifth item</a>\n",
    "     </ul>\n",
    " </div>\n",
    "'''\n",
    "html = etree.HTML(text)\n",
    "html\n",
    "result = etree.tostring(html)\n",
    "result\n",
    "type(result) #bytes类型\n",
    "print(result.decode('utf-8'))"
   ]
  },
  {
   "cell_type": "code",
   "execution_count": 7,
   "metadata": {
    "scrolled": true
   },
   "outputs": [
    {
     "data": {
      "text/plain": [
       "[<Element li at 0x2be27157708>,\n",
       " <Element li at 0x2be26b00048>,\n",
       " <Element li at 0x2be26b00248>,\n",
       " <Element li at 0x2be26be53c8>,\n",
       " <Element li at 0x2be26be5748>]"
      ]
     },
     "execution_count": 7,
     "metadata": {},
     "output_type": "execute_result"
    },
    {
     "data": {
      "text/plain": [
       "[<Element html at 0x2be26b6e1c8>,\n",
       " <Element body at 0x2be26d51508>,\n",
       " <Element div at 0x2be2702cfc8>,\n",
       " <Element ul at 0x2be26c01c08>,\n",
       " <Element li at 0x2be27157708>,\n",
       " <Element a at 0x2be26bf9988>,\n",
       " <Element li at 0x2be26b00048>,\n",
       " <Element a at 0x2be26bf9c88>,\n",
       " <Element li at 0x2be26b00248>,\n",
       " <Element a at 0x2be26bf9b88>,\n",
       " <Element li at 0x2be26be53c8>,\n",
       " <Element a at 0x2be261cb2c8>,\n",
       " <Element li at 0x2be26be5748>,\n",
       " <Element a at 0x2be26bff7c8>]"
      ]
     },
     "execution_count": 7,
     "metadata": {},
     "output_type": "execute_result"
    },
    {
     "data": {
      "text/plain": [
       "[<Element li at 0x2be27157708>,\n",
       " <Element li at 0x2be26b00048>,\n",
       " <Element li at 0x2be26b00248>,\n",
       " <Element li at 0x2be26be53c8>,\n",
       " <Element li at 0x2be26be5748>]"
      ]
     },
     "execution_count": 7,
     "metadata": {},
     "output_type": "execute_result"
    },
    {
     "data": {
      "text/plain": [
       "[<Element li at 0x2be27157708>,\n",
       " <Element a at 0x2be26bf9988>,\n",
       " <Element li at 0x2be26b00048>,\n",
       " <Element a at 0x2be26bf9c88>,\n",
       " <Element li at 0x2be26b00248>,\n",
       " <Element a at 0x2be26bf9b88>,\n",
       " <Element li at 0x2be26be53c8>,\n",
       " <Element a at 0x2be261cb2c8>,\n",
       " <Element li at 0x2be26be5748>,\n",
       " <Element a at 0x2be26bff7c8>]"
      ]
     },
     "execution_count": 7,
     "metadata": {},
     "output_type": "execute_result"
    },
    {
     "data": {
      "text/plain": [
       "[<Element div at 0x2be2702cfc8>]"
      ]
     },
     "execution_count": 7,
     "metadata": {},
     "output_type": "execute_result"
    },
    {
     "data": {
      "text/plain": [
       "[<Element html at 0x2be26b6e1c8>,\n",
       " <Element body at 0x2be26d51508>,\n",
       " <Element div at 0x2be2702cfc8>]"
      ]
     },
     "execution_count": 7,
     "metadata": {},
     "output_type": "execute_result"
    },
    {
     "data": {
      "text/plain": [
       "['item-1 th', 'asd']"
      ]
     },
     "execution_count": 7,
     "metadata": {},
     "output_type": "execute_result"
    },
    {
     "data": {
      "text/plain": [
       "[<Element li at 0x2be261cb2c8>,\n",
       " <Element a at 0x2be26b00248>,\n",
       " <Element li at 0x2be26b00048>,\n",
       " <Element a at 0x2be26be53c8>,\n",
       " <Element li at 0x2be26be5748>,\n",
       " <Element a at 0x2be26bf9c88>,\n",
       " <Element li at 0x2be26bf9b88>,\n",
       " <Element a at 0x2be26bf9e88>]"
      ]
     },
     "execution_count": 7,
     "metadata": {},
     "output_type": "execute_result"
    },
    {
     "data": {
      "text/plain": [
       "[<Element li at 0x2be261cb2c8>,\n",
       " <Element li at 0x2be26b00048>,\n",
       " <Element li at 0x2be26be5748>,\n",
       " <Element li at 0x2be26bf9b88>]"
      ]
     },
     "execution_count": 7,
     "metadata": {},
     "output_type": "execute_result"
    },
    {
     "data": {
      "text/plain": [
       "['first item', 'second item', 'third item', 'fourth item', 'fifth item']"
      ]
     },
     "execution_count": 7,
     "metadata": {},
     "output_type": "execute_result"
    },
    {
     "data": {
      "text/plain": [
       "['item-1 th', 'item-2', 'item-3', 'item-4', 'item-5']"
      ]
     },
     "execution_count": 7,
     "metadata": {},
     "output_type": "execute_result"
    },
    {
     "data": {
      "text/plain": [
       "[<Element li at 0x2be261cb2c8>]"
      ]
     },
     "execution_count": 7,
     "metadata": {},
     "output_type": "execute_result"
    },
    {
     "data": {
      "text/plain": [
       "[<Element li at 0x2be27160908>]"
      ]
     },
     "execution_count": 7,
     "metadata": {},
     "output_type": "execute_result"
    },
    {
     "data": {
      "text/plain": [
       "[<Element li at 0x2be27160908>, <Element li at 0x2be261cb2c8>]"
      ]
     },
     "execution_count": 7,
     "metadata": {},
     "output_type": "execute_result"
    },
    {
     "data": {
      "text/plain": [
       "['fifth item']"
      ]
     },
     "execution_count": 7,
     "metadata": {},
     "output_type": "execute_result"
    },
    {
     "data": {
      "text/plain": [
       "[<Element li at 0x2be27160908>, <Element li at 0x2be261cb2c8>]"
      ]
     },
     "execution_count": 7,
     "metadata": {},
     "output_type": "execute_result"
    },
    {
     "data": {
      "text/plain": [
       "[<Element li at 0x2be2702cfc8>]"
      ]
     },
     "execution_count": 7,
     "metadata": {},
     "output_type": "execute_result"
    }
   ],
   "source": [
    "from lxml import etree\n",
    " \n",
    "text = '''\n",
    "<div>\n",
    "    <ul>\n",
    "         <li class=\"item-1 th\" id='asd'><a href=\"link1.html\">first item</a></li>\n",
    "         <li class=\"item-2\"><a href=\"link2.html\">second item</a></li>\n",
    "         <li class=\"item-3\"><a href=\"link3.html\">third item</a></li>\n",
    "         <li class=\"item-4\"><a href=\"link4.html\">fourth item</a></li>\n",
    "         <li class=\"item-5\"><a href=\"link5.html\">fifth item</a></li>\n",
    "     </ul>\n",
    " </div>\n",
    "'''\n",
    " \n",
    "html = etree.HTML(text)\n",
    " \n",
    "###基础表达式\n",
    "#1.筛选全部的li节点,输出5个结果\n",
    "html.xpath('//li')\n",
    "\n",
    "#2.筛选全部节点，输出14个结果\n",
    "html.xpath('//*')\n",
    "\n",
    "#3.筛选ul节点的全部直接子节点（只包括li，不包括li中的a），共5个结果\n",
    "html.xpath('//ul/*')\n",
    "\n",
    "#4.筛选ul节点的全部子孙节点（包括li，也包括li中的a），共10个结果\n",
    "html.xpath('//ul//*')\n",
    "\n",
    "#5.筛选ul节点的直接父节点,输出节点div\n",
    "html.xpath('//ul/..')\n",
    "\n",
    "###按节点轴进行筛选\n",
    "#6.输出ul节点的全部祖先节点，输出div,body,html\n",
    "html.xpath('//ul/ancestor::*')\n",
    "\n",
    "#7.输出第一个li元素所有属性值,class的值item-0，和id的值asd\n",
    "html.xpath('//li[1]/attribute::*')\n",
    "\n",
    "#8.输出第一个li节点后的所有节点,输出8个节点，包括li和a\n",
    "html.xpath('//li[1]/following::*')\n",
    "\n",
    "#9.输出第一个节点的同级节点,输出4个节点\n",
    "html.xpath('//li[1]/following-sibling::*')\n",
    "\n",
    "###输出属性值或文本值\n",
    "#10.输出所有a节点的值,输出['first item', 'second item', 'third item', 'fourth item', 'fifth item']\n",
    "html.xpath('//a/text()')\n",
    "\n",
    "#11.输出所有li节点的class属性值,结果为['item-1', 'item-2', 'item-3', 'item-4', 'item-5']\n",
    "html.xpath('//li/@class')\n",
    "\n",
    "\n",
    "###按属性值选择节点\n",
    "#12.筛选class值为item-2的li,输出一个结果\n",
    "html.xpath('//li[@class = \"item-2\"]')\n",
    "\n",
    "#13.筛选class值为th的li,因为要选取的class有多个属性值，所以需要用到contains函数,单一值也可用contains\n",
    "html.xpath('//li[contains(@class,\"th\")]')\n",
    "\n",
    "#14.选取class为th和item-2的li节点\n",
    "html.xpath('//li[contains(@class,\"th\") or @class=\"item-2\"]')\n",
    "\n",
    "#按顺序选择节点\n",
    "#15.选取最后一个li节点中a的文本值，输出fifth item\n",
    "html.xpath('//li[last()]/a/text()')\n",
    "\n",
    "#16.选取序号小于3的li节点,输出前两个li\n",
    "html.xpath('//li[position()<3]')\n",
    "\n",
    "#17.选取倒数第三个节点\n",
    "html.xpath('//li[last()-2]')"
   ]
  },
  {
   "cell_type": "markdown",
   "metadata": {},
   "source": [
    "#### 使用xpath提取丁香园论坛的回复内容"
   ]
  },
  {
   "cell_type": "code",
   "execution_count": 52,
   "metadata": {},
   "outputs": [
    {
     "data": {
      "text/plain": [
       "'晕厥待查——请教各位同仁'"
      ]
     },
     "execution_count": 52,
     "metadata": {},
     "output_type": "execute_result"
    },
    {
     "name": "stdout",
     "output_type": "stream",
     "text": [
      "作者：楼医生\n",
      "作者：lion000\n",
      "作者：xghrh\n",
      "作者：keys\n",
      "回复：我遇到一个“怪”病人，向大家请教。她，42岁。反复惊吓后晕厥30余年。每次受响声惊吓后发生跌倒，短暂意识丧失。无逆行性遗忘，无抽搐，无口吐白沫，无大小便失禁。多次跌倒致外伤。婴儿时有惊厥史。入院查体无殊。ECG、24小时动态心电图无殊；头颅MRI示小软化灶；脑电图无殊。入院后有数次类似发作。请问该患者该做何诊断，还需做什么检查，治疗方案怎样？\n",
      "回复：从发作的症状上比较符合血管迷走神经性晕厥，直立倾斜试验能协助诊断。在行直立倾斜实验前应该做常规的体格检查、ECG、UCG、holter和X-ray胸片除外器质性心脏病。\n",
      "回复：贴一篇“口服氨酰心安和依那普利治疗血管迷走性晕厥的疗效观察”\n",
      "回复：作者：林文华 任自文 丁燕生\n",
      "回复：\n",
      "回复：同意lion000版主的观点：如果此患者随着年龄的增长，其发作频率逐渐减少且更加支持，不知此患者有无这一特点。\n",
      "回复：入院后的HOLTER及血压监测对此患者只能是一种安慰性的检查，因在这些检查过程中患者发病的机会不是太大，当然不排除正好发作的情况。对此患者应常规作直立倾斜试验，如果没有诱发出，再考虑有无可能是其他原因所致的意识障碍，如室性心动过速等，但这需要电生理尤其是心腔内电生理的检查，毕竟是有一种创伤性方法。\n",
      "回复：因在外地，下面一篇文章可能对您有助，请您自己查找一下。\n",
      "回复：心理应激事件诱发血管迷走性晕厥1例 ，杨峻青、吴沃栋、张瑞云，中国神经精神疾病杂志， 2002 Vol.28 No.2\n",
      "回复：该例不排除精神因素导致的，因为每次均在受惊吓后出现。当然，在作出此诊断前，应完善相关检查，如头颅MIR(MRA),直立倾斜试验等。\n"
     ]
    }
   ],
   "source": [
    "from lxml import etree\n",
    "import requests\n",
    "# import collections\n",
    "import pandas as pd \n",
    "\n",
    "# data = collections.defaultdict(list)\n",
    "\n",
    "url = 'http://www.dxy.cn/bbs/thread/626626#626626'\n",
    "res = requests.get(url)\n",
    "res.encoding = 'utf-8'\n",
    "html = etree.HTML(res.text)\n",
    "\n",
    "titledata = html.xpath('//div[@id=\"postview\"]//h1/text()')\n",
    "title = titledata[0].strip()\n",
    "title\n",
    "\n",
    "authors = html.xpath('//div[@id=\"postview\"]//div[@class=\"postbox\"]//div[@class=\"auth\"]//a/text()')\n",
    "for author in authors:\n",
    "    data['Titie'].append(title)\n",
    "    data['Authors'].append(author.strip())\n",
    "    print('作者：'+ author.strip())\n",
    "\n",
    "    \n",
    "replies = html.xpath('//div[@id=\"postview\"]//div[@class=\"postbox\"]//td[@class=\"postbody\"]/text()')\n",
    "for reply in replies:\n",
    "    data['Replies'].append(reply.strip())\n",
    "    print('回复：'+ reply.strip())\n",
    "    \n",
    "# data_df = pd.DataFrame(data)\n",
    "# data_df"
   ]
  }
 ],
 "metadata": {
  "kernelspec": {
   "display_name": "Python 3",
   "language": "python",
   "name": "python3"
  },
  "language_info": {
   "codemirror_mode": {
    "name": "ipython",
    "version": 3
   },
   "file_extension": ".py",
   "mimetype": "text/x-python",
   "name": "python",
   "nbconvert_exporter": "python",
   "pygments_lexer": "ipython3",
   "version": "3.7.0"
  }
 },
 "nbformat": 4,
 "nbformat_minor": 2
}
